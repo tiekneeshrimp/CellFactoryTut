{
 "cells": [
  {
   "cell_type": "code",
   "execution_count": 11,
   "id": "83dc0637-c33d-4b6b-a722-3275d1eb68b2",
   "metadata": {},
   "outputs": [],
   "source": [
    "#[packages]\n",
    "#cameo, escher, pandas, rise\n",
    "#[requires]\n",
    "#python_version = \"3.8\"\n",
    "#postBuild: jupyter labextension install jupyterlab-plotly@4.14.3"
   ]
  },
  {
   "cell_type": "code",
   "execution_count": 5,
   "id": "f9b5d4d0-dc15-4fac-89a6-ba444ab8bdaf",
   "metadata": {},
   "outputs": [
    {
     "data": {
      "text/html": [
       "<div>\n",
       "<style scoped>\n",
       "    .dataframe tbody tr th:only-of-type {\n",
       "        vertical-align: middle;\n",
       "    }\n",
       "\n",
       "    .dataframe tbody tr th {\n",
       "        vertical-align: top;\n",
       "    }\n",
       "\n",
       "    .dataframe thead th {\n",
       "        text-align: right;\n",
       "    }\n",
       "</style>\n",
       "<table border=\"1\" class=\"dataframe\">\n",
       "  <thead>\n",
       "    <tr style=\"text-align: right;\">\n",
       "      <th></th>\n",
       "      <th>R_1</th>\n",
       "      <th>R_2</th>\n",
       "      <th>R_3</th>\n",
       "      <th>R_4</th>\n",
       "      <th>R_5</th>\n",
       "      <th>R_6</th>\n",
       "      <th>R_7</th>\n",
       "      <th>R_8</th>\n",
       "      <th>R_9</th>\n",
       "    </tr>\n",
       "  </thead>\n",
       "  <tbody>\n",
       "    <tr>\n",
       "      <th>A</th>\n",
       "      <td>1</td>\n",
       "      <td>-1</td>\n",
       "      <td>-1</td>\n",
       "      <td>0</td>\n",
       "      <td>0</td>\n",
       "      <td>0</td>\n",
       "      <td>0</td>\n",
       "      <td>0</td>\n",
       "      <td>0</td>\n",
       "    </tr>\n",
       "    <tr>\n",
       "      <th>B</th>\n",
       "      <td>0</td>\n",
       "      <td>1</td>\n",
       "      <td>0</td>\n",
       "      <td>-1</td>\n",
       "      <td>0</td>\n",
       "      <td>-2</td>\n",
       "      <td>0</td>\n",
       "      <td>0</td>\n",
       "      <td>0</td>\n",
       "    </tr>\n",
       "    <tr>\n",
       "      <th>C</th>\n",
       "      <td>0</td>\n",
       "      <td>0</td>\n",
       "      <td>1</td>\n",
       "      <td>0</td>\n",
       "      <td>0</td>\n",
       "      <td>1</td>\n",
       "      <td>-1</td>\n",
       "      <td>0</td>\n",
       "      <td>0</td>\n",
       "    </tr>\n",
       "    <tr>\n",
       "      <th>D</th>\n",
       "      <td>0</td>\n",
       "      <td>0</td>\n",
       "      <td>0</td>\n",
       "      <td>2</td>\n",
       "      <td>0</td>\n",
       "      <td>0</td>\n",
       "      <td>1</td>\n",
       "      <td>-1</td>\n",
       "      <td>0</td>\n",
       "    </tr>\n",
       "    <tr>\n",
       "      <th>E</th>\n",
       "      <td>0</td>\n",
       "      <td>0</td>\n",
       "      <td>0</td>\n",
       "      <td>-1</td>\n",
       "      <td>1</td>\n",
       "      <td>0</td>\n",
       "      <td>0</td>\n",
       "      <td>0</td>\n",
       "      <td>0</td>\n",
       "    </tr>\n",
       "    <tr>\n",
       "      <th>F</th>\n",
       "      <td>0</td>\n",
       "      <td>0</td>\n",
       "      <td>0</td>\n",
       "      <td>0</td>\n",
       "      <td>0</td>\n",
       "      <td>1</td>\n",
       "      <td>0</td>\n",
       "      <td>0</td>\n",
       "      <td>-1</td>\n",
       "    </tr>\n",
       "  </tbody>\n",
       "</table>\n",
       "</div>"
      ],
      "text/plain": [
       "   R_1  R_2  R_3  R_4  R_5  R_6  R_7  R_8  R_9\n",
       "A    1   -1   -1    0    0    0    0    0    0\n",
       "B    0    1    0   -1    0   -2    0    0    0\n",
       "C    0    0    1    0    0    1   -1    0    0\n",
       "D    0    0    0    2    0    0    1   -1    0\n",
       "E    0    0    0   -1    1    0    0    0    0\n",
       "F    0    0    0    0    0    1    0    0   -1"
      ]
     },
     "execution_count": 5,
     "metadata": {},
     "output_type": "execute_result"
    }
   ],
   "source": [
    "import cobra\n",
    "cobra_config = cobra.Configuration()\n",
    "cobra_config.solver =\"glpk_exact\"\n",
    "\n",
    "abc_model = cobra.Model(\"ABC_model\")\n",
    "A = cobra.Metabolite(\"A\", compartment=\"c\")\n",
    "B = cobra.Metabolite(\"B\", compartment=\"c\")\n",
    "C = cobra.Metabolite(\"C\", compartment=\"c\")\n",
    "D = cobra.Metabolite(\"D\", compartment=\"c\")\n",
    "E = cobra.Metabolite(\"E\", compartment=\"c\")\n",
    "F = cobra.Metabolite(\"F\", compartment=\"c\")\n",
    "\n",
    "abc_model.add_metabolites([A,B,C,D,E,F])\n",
    "\n",
    "R_1 = cobra.Reaction(\"R_1\")\n",
    "R_2 = cobra.Reaction(\"R_2\")\n",
    "R_3 = cobra.Reaction(\"R_3\")\n",
    "R_4 = cobra.Reaction(\"R_4\")\n",
    "R_5 = cobra.Reaction(\"R_5\")\n",
    "R_6 = cobra.Reaction(\"R_6\")\n",
    "R_7 = cobra.Reaction(\"R_7\")\n",
    "R_8 = cobra.Reaction(\"R_8\")\n",
    "R_9 = cobra.Reaction(\"R_9\")\n",
    "\n",
    "abc_model.add_reactions([R_1, R_2, R_3, R_4, R_5, R_6, R_7, R_8, R_9])\n",
    "\n",
    "R_1.build_reaction_from_string(\"--> A\")\n",
    "R_2.build_reaction_from_string(\"A --> B\")\n",
    "R_3.build_reaction_from_string(\"A --> C\")\n",
    "R_4.build_reaction_from_string(\"B + E --> 2 D\")\n",
    "R_5.build_reaction_from_string(\"--> E\")\n",
    "R_6.build_reaction_from_string(\"2 B --> C + F\")\n",
    "R_7.build_reaction_from_string(\"C --> D\")\n",
    "R_8.build_reaction_from_string(\"D -->\")\n",
    "R_9.build_reaction_from_string(\"F -->\")\n",
    "\n",
    "cobra.io.save_json_model(abc_model, \"ABC_model.json\")\n",
    "cobra.util.array.create_stoichiometric_matrix(abc_model, array_type=\"DataFrame\").astype(int)"
   ]
  },
  {
   "cell_type": "code",
   "execution_count": 6,
   "id": "a5667d9e-75c2-47c6-ac0a-9ea8147c307d",
   "metadata": {},
   "outputs": [
    {
     "data": {
      "text/html": [
       "<strong><em>Optimal</em> solution with objective value 20.000</strong><br><div>\n",
       "<style scoped>\n",
       "    .dataframe tbody tr th:only-of-type {\n",
       "        vertical-align: middle;\n",
       "    }\n",
       "\n",
       "    .dataframe tbody tr th {\n",
       "        vertical-align: top;\n",
       "    }\n",
       "\n",
       "    .dataframe thead th {\n",
       "        text-align: right;\n",
       "    }\n",
       "</style>\n",
       "<table border=\"1\" class=\"dataframe\">\n",
       "  <thead>\n",
       "    <tr style=\"text-align: right;\">\n",
       "      <th></th>\n",
       "      <th>fluxes</th>\n",
       "      <th>reduced_costs</th>\n",
       "    </tr>\n",
       "  </thead>\n",
       "  <tbody>\n",
       "    <tr>\n",
       "      <th>R_1</th>\n",
       "      <td>10.0</td>\n",
       "      <td>4.0</td>\n",
       "    </tr>\n",
       "    <tr>\n",
       "      <th>R_2</th>\n",
       "      <td>10.0</td>\n",
       "      <td>0.0</td>\n",
       "    </tr>\n",
       "    <tr>\n",
       "      <th>R_3</th>\n",
       "      <td>0.0</td>\n",
       "      <td>-2.0</td>\n",
       "    </tr>\n",
       "    <tr>\n",
       "      <th>R_4</th>\n",
       "      <td>10.0</td>\n",
       "      <td>0.0</td>\n",
       "    </tr>\n",
       "    <tr>\n",
       "      <th>R_5</th>\n",
       "      <td>10.0</td>\n",
       "      <td>0.0</td>\n",
       "    </tr>\n",
       "    <tr>\n",
       "      <th>R_6</th>\n",
       "      <td>0.0</td>\n",
       "      <td>-6.0</td>\n",
       "    </tr>\n",
       "    <tr>\n",
       "      <th>R_7</th>\n",
       "      <td>0.0</td>\n",
       "      <td>0.0</td>\n",
       "    </tr>\n",
       "    <tr>\n",
       "      <th>R_8</th>\n",
       "      <td>20.0</td>\n",
       "      <td>0.0</td>\n",
       "    </tr>\n",
       "    <tr>\n",
       "      <th>R_9</th>\n",
       "      <td>0.0</td>\n",
       "      <td>0.0</td>\n",
       "    </tr>\n",
       "  </tbody>\n",
       "</table>\n",
       "</div>"
      ],
      "text/plain": [
       "<Solution 20.000 at 0x28401095650>"
      ]
     },
     "execution_count": 6,
     "metadata": {},
     "output_type": "execute_result"
    }
   ],
   "source": [
    "abc_model = cobra.io.load_json_model(\"ABC_model.json\")  #balanced steady state\n",
    "abc_model.objective = \"R_8\" #cellular objective (growth)\n",
    "for rxn in abc_model.reactions:\n",
    "    rxn.lower_bound = 0 #irreversible reaction, cannot be <0\n",
    "abc_model.reactions.R_1.upper_bound = 10 #uptake rate 10mmol/gDW/hr\n",
    "\n",
    "optimal_growth_rate = abc_model.optimize() #find fluxes that maximize growth rate\n",
    "optimal_growth_rate"
   ]
  },
  {
   "cell_type": "code",
   "execution_count": 7,
   "id": "cc7dbd89-cfbd-4a15-b3a1-250fd0d255c3",
   "metadata": {},
   "outputs": [],
   "source": [
    "#list of numbers may not be helpful, so we can visualize the fluxes"
   ]
  },
  {
   "cell_type": "code",
   "execution_count": 10,
   "id": "81d7b12c-85e2-4488-a070-c2762789372a",
   "metadata": {},
   "outputs": [
    {
     "ename": "ImportError",
     "evalue": "cannot import name 'soft_unicode' from 'markupsafe' (C:\\Users\\lint730\\AppData\\Local\\anaconda3\\Lib\\site-packages\\markupsafe\\__init__.py)",
     "output_type": "error",
     "traceback": [
      "\u001b[1;31m---------------------------------------------------------------------------\u001b[0m",
      "\u001b[1;31mImportError\u001b[0m                               Traceback (most recent call last)",
      "Cell \u001b[1;32mIn[10], line 1\u001b[0m\n\u001b[1;32m----> 1\u001b[0m \u001b[38;5;28;01mimport\u001b[39;00m \u001b[38;5;21;01mescher\u001b[39;00m\n",
      "File \u001b[1;32m~\\AppData\\Local\\anaconda3\\Lib\\site-packages\\escher\\__init__.py:11\u001b[0m\n\u001b[0;32m      2\u001b[0m rc \u001b[38;5;241m=\u001b[39m {}\n\u001b[0;32m      5\u001b[0m \u001b[38;5;28;01mfrom\u001b[39;00m \u001b[38;5;21;01mescher\u001b[39;00m\u001b[38;5;21;01m.\u001b[39;00m\u001b[38;5;21;01mversion\u001b[39;00m \u001b[38;5;28;01mimport\u001b[39;00m (\n\u001b[0;32m      6\u001b[0m     __version__,\n\u001b[0;32m      7\u001b[0m     __schema_version__,\n\u001b[0;32m      8\u001b[0m     __map_model_version__,\n\u001b[0;32m      9\u001b[0m )\n\u001b[1;32m---> 11\u001b[0m \u001b[38;5;28;01mfrom\u001b[39;00m \u001b[38;5;21;01mescher\u001b[39;00m\u001b[38;5;21;01m.\u001b[39;00m\u001b[38;5;21;01mplots\u001b[39;00m \u001b[38;5;28;01mimport\u001b[39;00m (\n\u001b[0;32m     12\u001b[0m     Builder,\n\u001b[0;32m     13\u001b[0m     list_available_maps,\n\u001b[0;32m     14\u001b[0m     list_available_models,\n\u001b[0;32m     15\u001b[0m )\n\u001b[0;32m     18\u001b[0m \u001b[38;5;28;01mdef\u001b[39;00m \u001b[38;5;21m_jupyter_nbextension_paths\u001b[39m():\n\u001b[0;32m     19\u001b[0m     \u001b[38;5;28;01mreturn\u001b[39;00m [{\n\u001b[0;32m     20\u001b[0m         \u001b[38;5;124m'\u001b[39m\u001b[38;5;124msection\u001b[39m\u001b[38;5;124m'\u001b[39m: \u001b[38;5;124m'\u001b[39m\u001b[38;5;124mnotebook\u001b[39m\u001b[38;5;124m'\u001b[39m,\n\u001b[0;32m     21\u001b[0m         \u001b[38;5;124m'\u001b[39m\u001b[38;5;124msrc\u001b[39m\u001b[38;5;124m'\u001b[39m: \u001b[38;5;124m'\u001b[39m\u001b[38;5;124mstatic\u001b[39m\u001b[38;5;124m'\u001b[39m,\n\u001b[0;32m     22\u001b[0m         \u001b[38;5;124m'\u001b[39m\u001b[38;5;124mdest\u001b[39m\u001b[38;5;124m'\u001b[39m: \u001b[38;5;124m'\u001b[39m\u001b[38;5;124mescher\u001b[39m\u001b[38;5;124m'\u001b[39m,\n\u001b[0;32m     23\u001b[0m         \u001b[38;5;124m'\u001b[39m\u001b[38;5;124mrequire\u001b[39m\u001b[38;5;124m'\u001b[39m: \u001b[38;5;124m'\u001b[39m\u001b[38;5;124mescher/extension\u001b[39m\u001b[38;5;124m'\u001b[39m\n\u001b[0;32m     24\u001b[0m     }]\n",
      "File \u001b[1;32m~\\AppData\\Local\\anaconda3\\Lib\\site-packages\\escher\\plots.py:20\u001b[0m\n\u001b[0;32m     18\u001b[0m \u001b[38;5;28;01mimport\u001b[39;00m \u001b[38;5;21;01mshutil\u001b[39;00m\n\u001b[0;32m     19\u001b[0m \u001b[38;5;28;01mimport\u001b[39;00m \u001b[38;5;21;01mre\u001b[39;00m\n\u001b[1;32m---> 20\u001b[0m \u001b[38;5;28;01mfrom\u001b[39;00m \u001b[38;5;21;01mjinja2\u001b[39;00m \u001b[38;5;28;01mimport\u001b[39;00m Environment, PackageLoader, Template\n\u001b[0;32m     21\u001b[0m \u001b[38;5;28;01mimport\u001b[39;00m \u001b[38;5;21;01mcodecs\u001b[39;00m\n\u001b[0;32m     22\u001b[0m \u001b[38;5;28;01mimport\u001b[39;00m \u001b[38;5;21;01mrandom\u001b[39;00m\n",
      "File \u001b[1;32m~\\AppData\\Local\\anaconda3\\Lib\\site-packages\\jinja2\\__init__.py:12\u001b[0m\n\u001b[0;32m     10\u001b[0m \u001b[38;5;28;01mfrom\u001b[39;00m \u001b[38;5;21;01m.\u001b[39;00m\u001b[38;5;21;01mbccache\u001b[39;00m \u001b[38;5;28;01mimport\u001b[39;00m FileSystemBytecodeCache\n\u001b[0;32m     11\u001b[0m \u001b[38;5;28;01mfrom\u001b[39;00m \u001b[38;5;21;01m.\u001b[39;00m\u001b[38;5;21;01mbccache\u001b[39;00m \u001b[38;5;28;01mimport\u001b[39;00m MemcachedBytecodeCache\n\u001b[1;32m---> 12\u001b[0m \u001b[38;5;28;01mfrom\u001b[39;00m \u001b[38;5;21;01m.\u001b[39;00m\u001b[38;5;21;01menvironment\u001b[39;00m \u001b[38;5;28;01mimport\u001b[39;00m Environment\n\u001b[0;32m     13\u001b[0m \u001b[38;5;28;01mfrom\u001b[39;00m \u001b[38;5;21;01m.\u001b[39;00m\u001b[38;5;21;01menvironment\u001b[39;00m \u001b[38;5;28;01mimport\u001b[39;00m Template\n\u001b[0;32m     14\u001b[0m \u001b[38;5;28;01mfrom\u001b[39;00m \u001b[38;5;21;01m.\u001b[39;00m\u001b[38;5;21;01mexceptions\u001b[39;00m \u001b[38;5;28;01mimport\u001b[39;00m TemplateAssertionError\n",
      "File \u001b[1;32m~\\AppData\\Local\\anaconda3\\Lib\\site-packages\\jinja2\\environment.py:25\u001b[0m\n\u001b[0;32m     23\u001b[0m \u001b[38;5;28;01mfrom\u001b[39;00m \u001b[38;5;21;01m.\u001b[39;00m\u001b[38;5;21;01mcompiler\u001b[39;00m \u001b[38;5;28;01mimport\u001b[39;00m CodeGenerator\n\u001b[0;32m     24\u001b[0m \u001b[38;5;28;01mfrom\u001b[39;00m \u001b[38;5;21;01m.\u001b[39;00m\u001b[38;5;21;01mcompiler\u001b[39;00m \u001b[38;5;28;01mimport\u001b[39;00m generate\n\u001b[1;32m---> 25\u001b[0m \u001b[38;5;28;01mfrom\u001b[39;00m \u001b[38;5;21;01m.\u001b[39;00m\u001b[38;5;21;01mdefaults\u001b[39;00m \u001b[38;5;28;01mimport\u001b[39;00m BLOCK_END_STRING\n\u001b[0;32m     26\u001b[0m \u001b[38;5;28;01mfrom\u001b[39;00m \u001b[38;5;21;01m.\u001b[39;00m\u001b[38;5;21;01mdefaults\u001b[39;00m \u001b[38;5;28;01mimport\u001b[39;00m BLOCK_START_STRING\n\u001b[0;32m     27\u001b[0m \u001b[38;5;28;01mfrom\u001b[39;00m \u001b[38;5;21;01m.\u001b[39;00m\u001b[38;5;21;01mdefaults\u001b[39;00m \u001b[38;5;28;01mimport\u001b[39;00m COMMENT_END_STRING\n",
      "File \u001b[1;32m~\\AppData\\Local\\anaconda3\\Lib\\site-packages\\jinja2\\defaults.py:3\u001b[0m\n\u001b[0;32m      1\u001b[0m \u001b[38;5;66;03m# -*- coding: utf-8 -*-\u001b[39;00m\n\u001b[0;32m      2\u001b[0m \u001b[38;5;28;01mfrom\u001b[39;00m \u001b[38;5;21;01m.\u001b[39;00m\u001b[38;5;21;01m_compat\u001b[39;00m \u001b[38;5;28;01mimport\u001b[39;00m range_type\n\u001b[1;32m----> 3\u001b[0m \u001b[38;5;28;01mfrom\u001b[39;00m \u001b[38;5;21;01m.\u001b[39;00m\u001b[38;5;21;01mfilters\u001b[39;00m \u001b[38;5;28;01mimport\u001b[39;00m FILTERS \u001b[38;5;28;01mas\u001b[39;00m DEFAULT_FILTERS  \u001b[38;5;66;03m# noqa: F401\u001b[39;00m\n\u001b[0;32m      4\u001b[0m \u001b[38;5;28;01mfrom\u001b[39;00m \u001b[38;5;21;01m.\u001b[39;00m\u001b[38;5;21;01mtests\u001b[39;00m \u001b[38;5;28;01mimport\u001b[39;00m TESTS \u001b[38;5;28;01mas\u001b[39;00m DEFAULT_TESTS  \u001b[38;5;66;03m# noqa: F401\u001b[39;00m\n\u001b[0;32m      5\u001b[0m \u001b[38;5;28;01mfrom\u001b[39;00m \u001b[38;5;21;01m.\u001b[39;00m\u001b[38;5;21;01mutils\u001b[39;00m \u001b[38;5;28;01mimport\u001b[39;00m Cycler\n",
      "File \u001b[1;32m~\\AppData\\Local\\anaconda3\\Lib\\site-packages\\jinja2\\filters.py:13\u001b[0m\n\u001b[0;32m     11\u001b[0m \u001b[38;5;28;01mfrom\u001b[39;00m \u001b[38;5;21;01mmarkupsafe\u001b[39;00m \u001b[38;5;28;01mimport\u001b[39;00m escape\n\u001b[0;32m     12\u001b[0m \u001b[38;5;28;01mfrom\u001b[39;00m \u001b[38;5;21;01mmarkupsafe\u001b[39;00m \u001b[38;5;28;01mimport\u001b[39;00m Markup\n\u001b[1;32m---> 13\u001b[0m \u001b[38;5;28;01mfrom\u001b[39;00m \u001b[38;5;21;01mmarkupsafe\u001b[39;00m \u001b[38;5;28;01mimport\u001b[39;00m soft_unicode\n\u001b[0;32m     15\u001b[0m \u001b[38;5;28;01mfrom\u001b[39;00m \u001b[38;5;21;01m.\u001b[39;00m\u001b[38;5;21;01m_compat\u001b[39;00m \u001b[38;5;28;01mimport\u001b[39;00m abc\n\u001b[0;32m     16\u001b[0m \u001b[38;5;28;01mfrom\u001b[39;00m \u001b[38;5;21;01m.\u001b[39;00m\u001b[38;5;21;01m_compat\u001b[39;00m \u001b[38;5;28;01mimport\u001b[39;00m imap\n",
      "\u001b[1;31mImportError\u001b[0m: cannot import name 'soft_unicode' from 'markupsafe' (C:\\Users\\lint730\\AppData\\Local\\anaconda3\\Lib\\site-packages\\markupsafe\\__init__.py)"
     ]
    }
   ],
   "source": [
    "import escher #package developed by inventors of flux balance analysis\n",
    "#ERROR for cannot import soft_unicode from markup_safe: downgrade to MarkupSafe==2.1.1 and Jinja2==3.1.2"
   ]
  },
  {
   "cell_type": "code",
   "execution_count": 9,
   "id": "11feaa1f-df3f-4571-a6e2-80cf4054c1c2",
   "metadata": {},
   "outputs": [
    {
     "data": {
      "text/html": [
       "<strong><em>Optimal</em> solution with objective value 5.000</strong><br><div>\n",
       "<style scoped>\n",
       "    .dataframe tbody tr th:only-of-type {\n",
       "        vertical-align: middle;\n",
       "    }\n",
       "\n",
       "    .dataframe tbody tr th {\n",
       "        vertical-align: top;\n",
       "    }\n",
       "\n",
       "    .dataframe thead th {\n",
       "        text-align: right;\n",
       "    }\n",
       "</style>\n",
       "<table border=\"1\" class=\"dataframe\">\n",
       "  <thead>\n",
       "    <tr style=\"text-align: right;\">\n",
       "      <th></th>\n",
       "      <th>fluxes</th>\n",
       "      <th>reduced_costs</th>\n",
       "    </tr>\n",
       "  </thead>\n",
       "  <tbody>\n",
       "    <tr>\n",
       "      <th>R_1</th>\n",
       "      <td>10.0</td>\n",
       "      <td>1.0</td>\n",
       "    </tr>\n",
       "    <tr>\n",
       "      <th>R_2</th>\n",
       "      <td>10.0</td>\n",
       "      <td>0.0</td>\n",
       "    </tr>\n",
       "    <tr>\n",
       "      <th>R_3</th>\n",
       "      <td>0.0</td>\n",
       "      <td>-1.0</td>\n",
       "    </tr>\n",
       "    <tr>\n",
       "      <th>R_4</th>\n",
       "      <td>0.0</td>\n",
       "      <td>-1.0</td>\n",
       "    </tr>\n",
       "    <tr>\n",
       "      <th>R_5</th>\n",
       "      <td>0.0</td>\n",
       "      <td>0.0</td>\n",
       "    </tr>\n",
       "    <tr>\n",
       "      <th>R_6</th>\n",
       "      <td>5.0</td>\n",
       "      <td>0.0</td>\n",
       "    </tr>\n",
       "    <tr>\n",
       "      <th>R_7</th>\n",
       "      <td>5.0</td>\n",
       "      <td>0.0</td>\n",
       "    </tr>\n",
       "    <tr>\n",
       "      <th>R_8</th>\n",
       "      <td>5.0</td>\n",
       "      <td>0.0</td>\n",
       "    </tr>\n",
       "    <tr>\n",
       "      <th>R_9</th>\n",
       "      <td>5.0</td>\n",
       "      <td>0.0</td>\n",
       "    </tr>\n",
       "  </tbody>\n",
       "</table>\n",
       "</div>"
      ],
      "text/plain": [
       "<Solution 5.000 at 0x28420d2b5d0>"
      ]
     },
     "metadata": {},
     "output_type": "display_data"
    },
    {
     "ename": "NameError",
     "evalue": "name 'escher' is not defined",
     "output_type": "error",
     "traceback": [
      "\u001b[1;31m---------------------------------------------------------------------------\u001b[0m",
      "\u001b[1;31mNameError\u001b[0m                                 Traceback (most recent call last)",
      "Cell \u001b[1;32mIn[9], line 12\u001b[0m\n\u001b[0;32m      7\u001b[0m display(optimal_bioproduct_yield)\n\u001b[0;32m      9\u001b[0m reaction_scale \u001b[38;5;241m=\u001b[39m [ { \u001b[38;5;124m'\u001b[39m\u001b[38;5;124mtype\u001b[39m\u001b[38;5;124m'\u001b[39m: \u001b[38;5;124m'\u001b[39m\u001b[38;5;124mmin\u001b[39m\u001b[38;5;124m'\u001b[39m,  \u001b[38;5;124m'\u001b[39m\u001b[38;5;124mcolor\u001b[39m\u001b[38;5;124m'\u001b[39m: \u001b[38;5;124m'\u001b[39m\u001b[38;5;124m#c8c8c8\u001b[39m\u001b[38;5;124m'\u001b[39m, \u001b[38;5;124m'\u001b[39m\u001b[38;5;124msize\u001b[39m\u001b[38;5;124m'\u001b[39m: \u001b[38;5;241m12\u001b[39m },\n\u001b[0;32m     10\u001b[0m                    { \u001b[38;5;124m'\u001b[39m\u001b[38;5;124mtype\u001b[39m\u001b[38;5;124m'\u001b[39m: \u001b[38;5;124m'\u001b[39m\u001b[38;5;124mmean\u001b[39m\u001b[38;5;124m'\u001b[39m, \u001b[38;5;124m'\u001b[39m\u001b[38;5;124mcolor\u001b[39m\u001b[38;5;124m'\u001b[39m: \u001b[38;5;124m'\u001b[39m\u001b[38;5;124m#9696ff\u001b[39m\u001b[38;5;124m'\u001b[39m, \u001b[38;5;124m'\u001b[39m\u001b[38;5;124msize\u001b[39m\u001b[38;5;124m'\u001b[39m: \u001b[38;5;241m20\u001b[39m },\n\u001b[0;32m     11\u001b[0m                    { \u001b[38;5;124m'\u001b[39m\u001b[38;5;124mtype\u001b[39m\u001b[38;5;124m'\u001b[39m: \u001b[38;5;124m'\u001b[39m\u001b[38;5;124mmax\u001b[39m\u001b[38;5;124m'\u001b[39m,  \u001b[38;5;124m'\u001b[39m\u001b[38;5;124mcolor\u001b[39m\u001b[38;5;124m'\u001b[39m: \u001b[38;5;124m'\u001b[39m\u001b[38;5;124m#ff0000\u001b[39m\u001b[38;5;124m'\u001b[39m, \u001b[38;5;124m'\u001b[39m\u001b[38;5;124msize\u001b[39m\u001b[38;5;124m'\u001b[39m: \u001b[38;5;241m25\u001b[39m } ]\n\u001b[1;32m---> 12\u001b[0m escher\u001b[38;5;241m.\u001b[39mBuilder( map_json       \u001b[38;5;241m=\u001b[39m \u001b[38;5;124m'\u001b[39m\u001b[38;5;124mABC_map.json.loads\u001b[39m\u001b[38;5;124m'\u001b[39m,\n\u001b[0;32m     13\u001b[0m                 model          \u001b[38;5;241m=\u001b[39m abc_model,\n\u001b[0;32m     14\u001b[0m                 reaction_data  \u001b[38;5;241m=\u001b[39m optimal_growth_rate\u001b[38;5;241m.\u001b[39mfluxes\u001b[38;5;241m.\u001b[39mto_dict(),\n\u001b[0;32m     15\u001b[0m                 reaction_scale \u001b[38;5;241m=\u001b[39m reaction_scale\n\u001b[0;32m     16\u001b[0m               )\n",
      "\u001b[1;31mNameError\u001b[0m: name 'escher' is not defined"
     ]
    }
   ],
   "source": [
    "abc_model = cobra.io.load_json_model('ABC_model.json')\n",
    "abc_model.objective = abc_model.reactions.R_9\n",
    "for rxn in abc_model.reactions:\n",
    "    rxn.lower_bound = 0\n",
    "abc_model.reactions.R_1.upper_bound = 10\n",
    "optimal_bioproduct_yield = abc_model.optimize()                 \n",
    "display(optimal_bioproduct_yield)\n",
    "\n",
    "reaction_scale = [ { 'type': 'min',  'color': '#c8c8c8', 'size': 12 },\n",
    "                   { 'type': 'mean', 'color': '#9696ff', 'size': 20 },\n",
    "                   { 'type': 'max',  'color': '#ff0000', 'size': 25 } ]\n",
    "escher.Builder( map_json       = 'ABC_map.json.loads',\n",
    "                model          = abc_model,\n",
    "                reaction_data  = optimal_growth_rate.fluxes.to_dict(),\n",
    "                reaction_scale = reaction_scale\n",
    "              )"
   ]
  },
  {
   "cell_type": "code",
   "execution_count": 1,
   "id": "896a9644-752f-4a54-8d3c-8fd59120ac94",
   "metadata": {},
   "outputs": [
    {
     "ename": "NameError",
     "evalue": "name 'cobra' is not defined",
     "output_type": "error",
     "traceback": [
      "\u001b[1;31m---------------------------------------------------------------------------\u001b[0m",
      "\u001b[1;31mNameError\u001b[0m                                 Traceback (most recent call last)",
      "Cell \u001b[1;32mIn[1], line 1\u001b[0m\n\u001b[1;32m----> 1\u001b[0m abc_model \u001b[38;5;241m=\u001b[39m cobra\u001b[38;5;241m.\u001b[39mio\u001b[38;5;241m.\u001b[39mload_json_model(\u001b[38;5;124m'\u001b[39m\u001b[38;5;124mABC_model.json\u001b[39m\u001b[38;5;124m'\u001b[39m)\n\u001b[0;32m      2\u001b[0m abc_model\u001b[38;5;241m.\u001b[39mobjective \u001b[38;5;241m=\u001b[39m abc_model\u001b[38;5;241m.\u001b[39mreactions\u001b[38;5;241m.\u001b[39mR_9\n\u001b[0;32m      3\u001b[0m \u001b[38;5;28;01mfor\u001b[39;00m rxn \u001b[38;5;129;01min\u001b[39;00m abc_model\u001b[38;5;241m.\u001b[39mreactions:\n",
      "\u001b[1;31mNameError\u001b[0m: name 'cobra' is not defined"
     ]
    }
   ],
   "source": [
    "abc_model = cobra.io.load_json_model('ABC_model.json')\n",
    "abc_model.objective = abc_model.reactions.R_9\n",
    "for rxn in abc_model.reactions:\n",
    "    rxn.lower_bound = 0\n",
    "abc_model.reactions.R_1.upper_bound = 10\n",
    "\n",
    "optimal_bioproduct_yield = abc_model.optimize()\n",
    "display(optimal_bioproduct_yield)\n",
    "escher.Builder( map_json       ='ABC_map.json',\n",
    "                model          = abc_model,\n",
    "                reaction_data  = optimal_bioproduct_yield.fluxes.to_dict(),\n",
    "                reaction_scale = reaction_scale\n",
    "              )\n",
    "#optimal solution with objective value 5.0, halfing the input flux of 10"
   ]
  },
  {
   "cell_type": "code",
   "execution_count": 4,
   "id": "926fb685",
   "metadata": {},
   "outputs": [
    {
     "ename": "NameError",
     "evalue": "name 'cobra' is not defined",
     "output_type": "error",
     "traceback": [
      "\u001b[1;31m---------------------------------------------------------------------------\u001b[0m",
      "\u001b[1;31mNameError\u001b[0m                                 Traceback (most recent call last)",
      "Cell \u001b[1;32mIn[4], line 1\u001b[0m\n\u001b[1;32m----> 1\u001b[0m abc_model \u001b[38;5;241m=\u001b[39m cobra\u001b[38;5;241m.\u001b[39mio\u001b[38;5;241m.\u001b[39mload_json_model(\u001b[38;5;124m'\u001b[39m\u001b[38;5;124mABC_model.json\u001b[39m\u001b[38;5;124m'\u001b[39m) \u001b[38;5;66;03m#stoichiometric matrix loaded\u001b[39;00m\n\u001b[0;32m      2\u001b[0m abc_model\u001b[38;5;241m.\u001b[39mobjective \u001b[38;5;241m=\u001b[39m R_8                              \u001b[38;5;66;03m#cellular objective (growth)\u001b[39;00m\n\u001b[0;32m      3\u001b[0m \u001b[38;5;28;01mfor\u001b[39;00m rxn \u001b[38;5;129;01min\u001b[39;00m abc_model\u001b[38;5;241m.\u001b[39mreactions:                        \n",
      "\u001b[1;31mNameError\u001b[0m: name 'cobra' is not defined"
     ]
    }
   ],
   "source": [
    "abc_model = cobra.io.load_json_model('ABC_model.json') #stoichiometric matrix loaded\n",
    "abc_model.objective = R_8                              #cellular objective (growth)\n",
    "for rxn in abc_model.reactions:                        \n",
    "    rxn.lower_bound = 0                                #irreversible reactions\n",
    "abc_model.reactions.R_3.upper_bound = 0                #Uptake rate = 10mmol/hr\n",
    "abc_model.reactions.R_5.upper_bound = 5                #An-E-robic environmental condition\n",
    "\n",
    "environment_solution = abc_model.optimize()            #Effect of altering envrionment on bioproduct yield\n",
    "display(environment_solution)\n",
    "\n",
    "escher.Builder( map_json       ='ABC_map.json',\n",
    "                model          = abc_model,\n",
    "                reaction_data  = environment_solution.fluxes.to_dict(), \n",
    "                reaction_scale = reaction_scale,\n",
    "              )"
   ]
  },
  {
   "cell_type": "code",
   "execution_count": 11,
   "id": "32d2d913",
   "metadata": {},
   "outputs": [],
   "source": [
    "#Product:the optimal flux in the absence of E (r5 = 0) is to convert A to D from R1 -> R8 pathway. Optimal growth rate grew slower,\n",
    "#but did not produce bioproduct, non-growth product solution"
   ]
  },
  {
   "cell_type": "code",
   "execution_count": 1,
   "id": "b1aceae0",
   "metadata": {},
   "outputs": [
    {
     "ename": "NameError",
     "evalue": "name 'cobra' is not defined",
     "output_type": "error",
     "traceback": [
      "\u001b[1;31m---------------------------------------------------------------------------\u001b[0m",
      "\u001b[1;31mNameError\u001b[0m                                 Traceback (most recent call last)",
      "\u001b[1;32m~\\AppData\\Local\\Temp\\ipykernel_18068\\1544656861.py\u001b[0m in \u001b[0;36m<module>\u001b[1;34m\u001b[0m\n\u001b[0;32m      1\u001b[0m \u001b[1;31m#knock out gene that enables the A -> D pathway to force growth to optimize growth and bioproducts\u001b[0m\u001b[1;33m\u001b[0m\u001b[1;33m\u001b[0m\u001b[1;33m\u001b[0m\u001b[0m\n\u001b[1;32m----> 2\u001b[1;33m \u001b[0mabc_model\u001b[0m \u001b[1;33m=\u001b[0m \u001b[0mcobra\u001b[0m\u001b[1;33m.\u001b[0m\u001b[0mio\u001b[0m\u001b[1;33m.\u001b[0m\u001b[0mload_json_model\u001b[0m\u001b[1;33m(\u001b[0m\u001b[1;34m'ABC_model.json'\u001b[0m\u001b[1;33m)\u001b[0m\u001b[1;33m\u001b[0m\u001b[1;33m\u001b[0m\u001b[0m\n\u001b[0m\u001b[0;32m      3\u001b[0m \u001b[0mabc_model\u001b[0m\u001b[1;33m.\u001b[0m\u001b[0mobjective\u001b[0m \u001b[1;33m=\u001b[0m \u001b[0mR_8\u001b[0m\u001b[1;33m\u001b[0m\u001b[1;33m\u001b[0m\u001b[0m\n\u001b[0;32m      4\u001b[0m \u001b[1;32mfor\u001b[0m \u001b[0mrxn\u001b[0m \u001b[1;32min\u001b[0m \u001b[0mabc_model\u001b[0m\u001b[1;33m.\u001b[0m\u001b[0mreactions\u001b[0m\u001b[1;33m:\u001b[0m\u001b[1;33m\u001b[0m\u001b[1;33m\u001b[0m\u001b[0m\n\u001b[0;32m      5\u001b[0m     \u001b[0mrxn\u001b[0m\u001b[1;33m.\u001b[0m\u001b[0mlower_bound\u001b[0m \u001b[1;33m=\u001b[0m \u001b[1;36m0\u001b[0m\u001b[1;33m\u001b[0m\u001b[1;33m\u001b[0m\u001b[0m\n",
      "\u001b[1;31mNameError\u001b[0m: name 'cobra' is not defined"
     ]
    }
   ],
   "source": [
    "#knock out gene that enables the A -> D pathway to force growth to optimize growth and bioproducts\n",
    "abc_model = cobra.io.load_json_model('ABC_model.json')\n",
    "abc_model.objective = R_8\n",
    "for rxn in abc_model.reactions:\n",
    "    rxn.lower_bound = 0\n",
    "abc_model.reactions.R_1.upper_bound = 10\n",
    "abc_model.reactions.R_3.upper_bound = 0                  #Addition of genetic perturbation to prevent taking A to D pathway\n",
    "abc_model.reactions.R_5.upper_bound = 0\n",
    "\n",
    "environment_and_ko_solution = abc_model.optimize()       #Find fluxes that balance steady-state, optimizing growht and bioproduct\n",
    "\n",
    "display(environment_and_ko_solution)\n",
    "escher.Builder( map_json       ='ABC_map.json',\n",
    "                model          = abc_model,\n",
    "                reaction_data  = environment_and_ko_solution.fluxes.to_dict(), \n",
    "                reaction_scale = reaction_scale\n",
    "              )"
   ]
  },
  {
   "cell_type": "code",
   "execution_count": 2,
   "id": "0e64db99",
   "metadata": {},
   "outputs": [],
   "source": [
    "#reaction takes third pathway from a-> b > F > D\n",
    "#How about productivity? (product of growth rate and yield) after knocking out R3 and restricting to a an-E-robic condition"
   ]
  },
  {
   "cell_type": "code",
   "execution_count": 3,
   "id": "dc042603",
   "metadata": {},
   "outputs": [
    {
     "ename": "NameError",
     "evalue": "name 'cobra' is not defined",
     "output_type": "error",
     "traceback": [
      "\u001b[1;31m---------------------------------------------------------------------------\u001b[0m",
      "\u001b[1;31mNameError\u001b[0m                                 Traceback (most recent call last)",
      "\u001b[1;32m~\\AppData\\Local\\Temp\\ipykernel_18068\\361903519.py\u001b[0m in \u001b[0;36m<module>\u001b[1;34m\u001b[0m\n\u001b[0;32m      1\u001b[0m \u001b[1;31m#trying to improve aerobic conditions to see how that affects the trade off of product and yield. Maximize R8 and give organism\u001b[0m\u001b[1;33m\u001b[0m\u001b[1;33m\u001b[0m\u001b[1;33m\u001b[0m\u001b[0m\n\u001b[0;32m      2\u001b[0m \u001b[1;31m#more oxygen\u001b[0m\u001b[1;33m\u001b[0m\u001b[1;33m\u001b[0m\u001b[1;33m\u001b[0m\u001b[0m\n\u001b[1;32m----> 3\u001b[1;33m \u001b[0mabc_model\u001b[0m \u001b[1;33m=\u001b[0m \u001b[0mcobra\u001b[0m\u001b[1;33m.\u001b[0m\u001b[0mio\u001b[0m\u001b[1;33m.\u001b[0m\u001b[0mload_json_model\u001b[0m\u001b[1;33m(\u001b[0m\u001b[1;34m'ABC_model.json'\u001b[0m\u001b[1;33m)\u001b[0m   \u001b[1;31m#Stoichiometric matrix loaded\u001b[0m\u001b[1;33m\u001b[0m\u001b[1;33m\u001b[0m\u001b[0m\n\u001b[0m\u001b[0;32m      4\u001b[0m \u001b[0mabc_model\u001b[0m\u001b[1;33m.\u001b[0m\u001b[0mobjective\u001b[0m \u001b[1;33m=\u001b[0m \u001b[0mR_8\u001b[0m                                \u001b[1;31m#Cellular objective (growth)\u001b[0m\u001b[1;33m\u001b[0m\u001b[1;33m\u001b[0m\u001b[0m\n\u001b[0;32m      5\u001b[0m \u001b[1;32mfor\u001b[0m \u001b[0mrxn\u001b[0m \u001b[1;32min\u001b[0m \u001b[0mabc_model\u001b[0m\u001b[1;33m.\u001b[0m\u001b[0mreactions\u001b[0m\u001b[1;33m:\u001b[0m\u001b[1;33m\u001b[0m\u001b[1;33m\u001b[0m\u001b[0m\n",
      "\u001b[1;31mNameError\u001b[0m: name 'cobra' is not defined"
     ]
    }
   ],
   "source": [
    "#trying to improve aerobic conditions to see how that affects the trade off of product and yield. Maximize R8 and give organism\n",
    "#more oxygen\n",
    "abc_model = cobra.io.load_json_model('ABC_model.json')   #Stoichiometric matrix loaded\n",
    "abc_model.objective = R_8                                #Cellular objective (growth)\n",
    "for rxn in abc_model.reactions:\n",
    "    rxn.lower_bound = 0                                  #Irreversible reaction\n",
    "abc_model.reactions.R_1.upper_bound = 10                 #Uptake 10mmol/hour\n",
    "abc_model.reactions.R_3.upper_bound = 0                  #Addition of genetic perturbation to prevent taking A to D pathway\n",
    "abc_model.reactions.R_5.upper_bound = 5                  #An-E-robic environmental condition\n",
    "\n",
    "environment_and_ko_solution = abc_model.optimize()       #Find fluxes that balance steady-state, optimizing growht and bioproduct\n",
    "\n",
    "display(environment_and_ko_solution)\n",
    "escher.Builder( map_json       ='ABC_map.json',\n",
    "                model          = abc_model,\n",
    "                reaction_data  = environment_and_ko_solution.fluxes.to_dict(), \n",
    "                reaction_scale = reaction_scale\n",
    "              )\n",
    "#resulting color temp scale on graph = larger the number, more red the pathway\n",
    "#producing growth at rate of 12.5 (producing more than under anerobic conditions) but bioproduct is less (5 > 2.5). But\n",
    "#Product of 12.5x2.5 is > product of 5 x 5"
   ]
  },
  {
   "cell_type": "code",
   "execution_count": 4,
   "id": "f5fb1964",
   "metadata": {},
   "outputs": [],
   "source": [
    "#Visualising Tr/O bn growth rate and bioproduct yield w Production Envelope"
   ]
  },
  {
   "cell_type": "code",
   "execution_count": 5,
   "id": "ad0551c0",
   "metadata": {},
   "outputs": [
    {
     "ename": "ModuleNotFoundError",
     "evalue": "No module named 'cameo'",
     "output_type": "error",
     "traceback": [
      "\u001b[1;31m---------------------------------------------------------------------------\u001b[0m",
      "\u001b[1;31mModuleNotFoundError\u001b[0m                       Traceback (most recent call last)",
      "\u001b[1;32m~\\AppData\\Local\\Temp\\ipykernel_18068\\3003274602.py\u001b[0m in \u001b[0;36m<module>\u001b[1;34m\u001b[0m\n\u001b[0;32m      3\u001b[0m \u001b[1;31m#growth rate previously an objective, now it's a constraint (forcing growth\u001b[0m\u001b[1;33m\u001b[0m\u001b[1;33m\u001b[0m\u001b[1;33m\u001b[0m\u001b[0m\n\u001b[0;32m      4\u001b[0m \u001b[1;31m#at specific growth rate, maximizing engineering objective--bioproduct)\u001b[0m\u001b[1;33m\u001b[0m\u001b[1;33m\u001b[0m\u001b[1;33m\u001b[0m\u001b[0m\n\u001b[1;32m----> 5\u001b[1;33m \u001b[1;32mfrom\u001b[0m \u001b[0mcameo\u001b[0m\u001b[1;33m.\u001b[0m\u001b[0mflux_analysis\u001b[0m \u001b[1;32mimport\u001b[0m \u001b[0mphenotypic_phase_plane\u001b[0m \u001b[1;32mas\u001b[0m \u001b[0mppp\u001b[0m\u001b[1;33m\u001b[0m\u001b[1;33m\u001b[0m\u001b[0m\n\u001b[0m\u001b[0;32m      6\u001b[0m \u001b[1;32mfrom\u001b[0m \u001b[0mcameo\u001b[0m\u001b[1;33m.\u001b[0m\u001b[0mvisualization\u001b[0m\u001b[1;33m.\u001b[0m\u001b[0mplotting\u001b[0m\u001b[1;33m.\u001b[0m\u001b[0mwith_plotly\u001b[0m \u001b[1;32mimport\u001b[0m \u001b[0mPlotlyPlotter\u001b[0m\u001b[1;33m\u001b[0m\u001b[1;33m\u001b[0m\u001b[0m\n\u001b[0;32m      7\u001b[0m \u001b[1;32mfrom\u001b[0m \u001b[0mcameo\u001b[0m\u001b[1;33m.\u001b[0m\u001b[0mvisualization\u001b[0m \u001b[1;32mimport\u001b[0m \u001b[0mplotting\u001b[0m\u001b[1;33m\u001b[0m\u001b[1;33m\u001b[0m\u001b[0m\n",
      "\u001b[1;31mModuleNotFoundError\u001b[0m: No module named 'cameo'"
     ]
    }
   ],
   "source": [
    "#Production envelope helps extend intuition understanding tr/o to genome-\n",
    "#scale models\n",
    "#growth rate previously an objective, now it's a constraint (forcing growth\n",
    "#at specific growth rate, maximizing engineering objective--bioproduct)\n",
    "from cameo.flux_analysis import phenotypic_phase_plane as ppp\n",
    "from cameo.visualization.plotting.with_plotly import PlotlyPlotter\n",
    "from cameo.visualization import plotting\n",
    "\n",
    "abc_model = cobra.io.load_json_model('ABC_model.json')\n",
    "for rxn in abc_model.reactions:\n",
    "    rxn.lower_bound = 0\n",
    "abc_model.reactions.R_1.upper_bound = 10\n",
    "\n",
    "production_envelope = ppp( abc_model,\n",
    "                              variables=[abc_model.reactions.R_8],     #Grwoth rate <=i\n",
    "                              objective=abc_model.reactions.R_9,\n",
    "                              points=21)     #Engineering objective (bioproduct)\n",
    "\n",
    "result_df = production_envelope.data_frame.rename( columns  = dict(\n",
    "                                                            R_8 = 'growth_rate',\n",
    "                                          objective_upper_bound = 'bioproduct_maximum',\n",
    "                                          objective_lower_bound = 'bioproduct_minimum'))\n",
    "plotter = PlotlyPlotter()\n",
    "production_envelope.plot(plotter, \n",
    "                         title='Production envelope between bioproduct yield and growth rate for WT ABC model',\n",
    "                         points=[(5,5), (20,0),(10,0)])\n",
    "#Result is triangular 'envelope' that describes how much biopro. you can generate\n",
    "#(optimally) given a particular growth rate"
   ]
  },
  {
   "cell_type": "code",
   "execution_count": 6,
   "id": "b0aca3f5",
   "metadata": {},
   "outputs": [
    {
     "ename": "SyntaxError",
     "evalue": "unexpected EOF while parsing (3460548288.py, line 20)",
     "output_type": "error",
     "traceback": [
      "\u001b[1;36m  File \u001b[1;32m\"C:\\Users\\lint730\\AppData\\Local\\Temp\\ipykernel_18068\\3460548288.py\"\u001b[1;36m, line \u001b[1;32m20\u001b[0m\n\u001b[1;33m    \u001b[0m\n\u001b[1;37m    ^\u001b[0m\n\u001b[1;31mSyntaxError\u001b[0m\u001b[1;31m:\u001b[0m unexpected EOF while parsing\n"
     ]
    }
   ],
   "source": [
    "from cameo.flux_analysis import phenotypic_phase_plane as production_envelope\n",
    "\n",
    "abc_model = cobra.io.load_json_model('ABC_model.json')\n",
    "for rxn in abc_model.reactions:\n",
    "    rxn.lower_bound = 0\n",
    "abc_model.reactions.R_1.upper_bound = 10\n",
    "abc_model.reactions.R_3.upper_bound = 0\n",
    "abc_model.reactions.R_5.upper_bound = 5            #low E-robic environmental addition\n",
    "\n",
    "result = production_envelope( abc_model,\n",
    "                              variables=[abc_model.reactions.R_8],\n",
    "                              objective=abc_model.reactions.R_9,\n",
    "                              points=21 )    \n",
    "\n",
    "result_df = result.data_frame.rename(columns=dict(R_8='growth_rate',\n",
    "                                objective_upper_bound='bioproduct_maximum',\n",
    "                                objective_lower_bound='bioproduct_minimum'))\n",
    "result.plot(plotter,title='Gene knockout solution on the production envelope' #for attempt\n",
    "            #to grow and optimally yield\n",
    "            #optimal growth rate now achieves a nonzero product\n",
    "#^solution of gene knockout is (in theory) evolutionarily stable"
   ]
  },
  {
   "cell_type": "code",
   "execution_count": 7,
   "id": "21c94e07",
   "metadata": {},
   "outputs": [],
   "source": [
    "#Flux Variability analysis for pre-processing estimate of bounds"
   ]
  },
  {
   "cell_type": "code",
   "execution_count": 8,
   "id": "25b3388b",
   "metadata": {},
   "outputs": [
    {
     "ename": "ModuleNotFoundError",
     "evalue": "No module named 'escher'",
     "output_type": "error",
     "traceback": [
      "\u001b[1;31m---------------------------------------------------------------------------\u001b[0m",
      "\u001b[1;31mModuleNotFoundError\u001b[0m                       Traceback (most recent call last)",
      "\u001b[1;32m~\\AppData\\Local\\Temp\\ipykernel_18068\\3397949806.py\u001b[0m in \u001b[0;36m<module>\u001b[1;34m\u001b[0m\n\u001b[1;32m----> 1\u001b[1;33m \u001b[1;32mimport\u001b[0m \u001b[0mescher\u001b[0m\u001b[1;33m\u001b[0m\u001b[1;33m\u001b[0m\u001b[0m\n\u001b[0m\u001b[0;32m      2\u001b[0m \u001b[1;32mimport\u001b[0m \u001b[0mcobra\u001b[0m\u001b[1;33m\u001b[0m\u001b[1;33m\u001b[0m\u001b[0m\n\u001b[0;32m      3\u001b[0m \u001b[1;32mfrom\u001b[0m \u001b[0mcameo\u001b[0m \u001b[1;32mimport\u001b[0m \u001b[0mflux_variability_analysis\u001b[0m\u001b[1;33m\u001b[0m\u001b[1;33m\u001b[0m\u001b[0m\n\u001b[0;32m      4\u001b[0m \u001b[1;33m\u001b[0m\u001b[0m\n\u001b[0;32m      5\u001b[0m \u001b[0mabc_model\u001b[0m \u001b[1;33m=\u001b[0m  \u001b[0mcobra\u001b[0m\u001b[1;33m.\u001b[0m\u001b[0mio\u001b[0m\u001b[1;33m.\u001b[0m\u001b[0mload_json_model\u001b[0m\u001b[1;33m(\u001b[0m\u001b[1;34m'ABC_model.json'\u001b[0m\u001b[1;33m)\u001b[0m\u001b[1;33m\u001b[0m\u001b[1;33m\u001b[0m\u001b[0m\n",
      "\u001b[1;31mModuleNotFoundError\u001b[0m: No module named 'escher'"
     ]
    }
   ],
   "source": [
    "import escher\n",
    "import cobra\n",
    "from cameo import flux_variability_analysis\n",
    "\n",
    "abc_model =  cobra.io.load_json_model('ABC_model.json') \n",
    "abc_model.reactions.R_1.upper_bound=10\n",
    "fva_result = flux_variability_analysis(abc_model)\n",
    "\n",
    "\n",
    "fva_result.data_frame\n",
    "fva_result.plot(plotter,index=fva_result.data_frame.index, height=600)\n",
    "#You end up getting bounds much tighter than original rounds using FVA--\n",
    "#shows other constraints induced by the first constraint"
   ]
  },
  {
   "cell_type": "code",
   "execution_count": 9,
   "id": "cfcc437f",
   "metadata": {},
   "outputs": [
    {
     "ename": "SyntaxError",
     "evalue": "invalid syntax (427761037.py, line 16)",
     "output_type": "error",
     "traceback": [
      "\u001b[1;36m  File \u001b[1;32m\"C:\\Users\\lint730\\AppData\\Local\\Temp\\ipykernel_18068\\427761037.py\"\u001b[1;36m, line \u001b[1;32m16\u001b[0m\n\u001b[1;33m    return pd.DataFrame(fva)[['minimum','maximum']].\u001b[0m\n\u001b[1;37m                                                    ^\u001b[0m\n\u001b[1;31mSyntaxError\u001b[0m\u001b[1;31m:\u001b[0m invalid syntax\n"
     ]
    }
   ],
   "source": [
    "#FVA loops through rxns in network, solving for MAX flux and solving for MIN flux\n",
    "#associated with that reaction:\n",
    "\n",
    "import pandas as pd\n",
    "\n",
    "def fva( model ):\n",
    "    fva = {'minimum':{},\n",
    "           'maximum':{}}\n",
    "    for reaction in model.reactions:\n",
    "        with model:\n",
    "            model.objective = {reaction: -1}\n",
    "            fva['minimum'][reaction.id] = model.slim_optimize()\n",
    "        with model:\n",
    "            model.objective = {reaction: 1}\n",
    "            fva['maximum'][reaction.id] =  model.slim_optimize()\n",
    "    return pd.DataFrame(fva)[['minimum','maximum']]."
   ]
  },
  {
   "cell_type": "code",
   "execution_count": 10,
   "id": "9b0cacdc",
   "metadata": {},
   "outputs": [],
   "source": [
    "#What can you do with FVA"
   ]
  },
  {
   "cell_type": "code",
   "execution_count": null,
   "id": "9d4abcde",
   "metadata": {},
   "outputs": [],
   "source": [
    "import escher\n",
    "import cobra\n",
    "from cameo import flux_variability_analysis\n",
    "\n",
    "abc_model =  cobra.io.load_json_model('ABC_model.json') \n",
    "abc_model.reactions.R_1.upper_bound=10\n",
    "\n",
    "abc_fva = fva(abc_model)\n",
    "display(abc_fva)\n",
    "escher.Builder(map_json='ABC_map.json',\n",
    "               model=abc_model,\n",
    "               reaction_data=abc_fva['maximum'].to_dict(),\n",
    "              )\n",
    "#reactions now all have constraints induced by a single constraint (R1)\n",
    "#useful for modeling expression data ie how big can this reaction get?"
   ]
  }
 ],
 "metadata": {
  "kernelspec": {
   "display_name": "Python 3 (ipykernel)",
   "language": "python",
   "name": "python3"
  },
  "language_info": {
   "codemirror_mode": {
    "name": "ipython",
    "version": 3
   },
   "file_extension": ".py",
   "mimetype": "text/x-python",
   "name": "python",
   "nbconvert_exporter": "python",
   "pygments_lexer": "ipython3",
   "version": "3.7.1"
  }
 },
 "nbformat": 4,
 "nbformat_minor": 5
}
